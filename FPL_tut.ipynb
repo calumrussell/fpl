{
  "nbformat": 4,
  "nbformat_minor": 0,
  "metadata": {
    "kernelspec": {
      "display_name": "Python 3",
      "language": "python",
      "name": "python3"
    },
    "language_info": {
      "codemirror_mode": {
        "name": "ipython",
        "version": 3
      },
      "file_extension": ".py",
      "mimetype": "text/x-python",
      "name": "python",
      "nbconvert_exporter": "python",
      "pygments_lexer": "ipython3",
      "version": "3.8.3"
    },
    "colab": {
      "name": "FPL_tut.ipynb",
      "provenance": [],
      "include_colab_link": true
    }
  },
  "cells": [
    {
      "cell_type": "markdown",
      "metadata": {
        "id": "view-in-github",
        "colab_type": "text"
      },
      "source": [
        "<a href=\"https://colab.research.google.com/github/calumrussell/fpl/blob/master/FPL_tut.ipynb\" target=\"_parent\"><img src=\"https://colab.research.google.com/assets/colab-badge.svg\" alt=\"Open In Colab\"/></a>"
      ]
    },
    {
      "cell_type": "markdown",
      "metadata": {
        "id": "SxIaqV0NoVNc",
        "colab_type": "text"
      },
      "source": [
        "**Why you should care?**\n",
        "\n",
        "Learning how to program isn't for everyone. Computers aren't for everyone.\n",
        "\n",
        "After several hours of feeble struggling on a project, I still get frustrated. I imagine throwing my computer into the air, watching with glee as it's silicon insides spill onto the ground before me, try throwing an error now...\n",
        "\n",
        "...but computers are also magic. When you have built something, you feel accomplishment and wonder. When you are working, there is a satisfaction in watching a project come together. But, most importantly, computers solve problems.\n",
        "\n",
        "Most people get stuck learning how to program. Why? Because programming is presented as something to learn and teach, not something which makes your life immediately better. This is often fun for the teacher but boring for the student.\n",
        "\n",
        "I learned how to program because I had a problem that needed a solution. The first code I wrote, I belive, was for a university paper on monetary policy: I needed a statistical tool that Excel didn't have. The first \"real\" program calculated the weights for a portfolio of equities: again, I needed a tool that Excel didn't have. I didn't build this stuff because I love computers or maths or algorithms...I needed solutions.\n",
        "\n",
        "My purpose is to show you that programming is useful. You will not become an expert overnight but you also don't need to spend years trudging your way through exercises or building toy applications that don't interest you. You can, hopefully, build things in a few weeks, and those things will be useful to you. FPL is the perfect place to test and build programming skills. Build skills. Have fun. Learn new things. Challenge yourself.\n"
      ]
    },
    {
      "cell_type": "markdown",
      "metadata": {
        "id": "XR8TFWsVoVNh",
        "colab_type": "text"
      },
      "source": [
        "**What to expect?**\n",
        "\n",
        "I am not a teacher. I did not study Computer Science. My only \"qualification\" is that programming changed my life, and I believe it can help other people. \n",
        "\n",
        "Maybe it helps you get a job, maybe it helps you at work or school, or maybe you just have fun. Hopefully, all three. \n",
        "\n",
        "I will do my best to give the most concise explanation possible of the fundamentals of programming but I cannot teach you everything, and you will need to supplement this knowledge on your own. My aim it not to teach you but to help you teach yourself.\n",
        "\n",
        "This may sound scary but if anyone attempted to foist their version of programming onto me, I would have lost interest immediately. That is why this is hopefully going to be as much about FPL as it is about programming.\n"
      ]
    },
    {
      "cell_type": "markdown",
      "metadata": {
        "id": "y_JlPpv5oVNl",
        "colab_type": "text"
      },
      "source": [
        "**What is programming?**\n",
        "\n",
        "Unfortunately this part is, imo, unavoidable so I will be brief: a computer program stores and operates on data.\n",
        "\n",
        "A computer is composed of storage - RAM and hard drive - and computation - the CPU. Storage stores data until it is required for computation. And the CPU has instructions that operate on data. This sounds vauge but it is basic stuff: addition, multiplication, etc.\n",
        "\n",
        "A computer program is just built ontop of this structure. This may sound ludicrously simple but that is really it. N\n",
        "\n",
        "Abstract part over. We can get onto the actual code."
      ]
    },
    {
      "cell_type": "code",
      "metadata": {
        "id": "sEJGL48ZoVNo",
        "colab_type": "code",
        "colab": {}
      },
      "source": [
        "name = \"Leo Messi\"\n",
        "print(name)"
      ],
      "execution_count": null,
      "outputs": []
    },
    {
      "cell_type": "markdown",
      "metadata": {
        "id": "qDN2PdfqoVN7",
        "colab_type": "text"
      },
      "source": [
        "**Variables**\n",
        "\n",
        "Intuitively, we can understand this but the detail of what is actually happening is unclear.\n",
        "\n",
        "The part on the right is clearly two words but why quotes? Inside the quotes is a list of letters, and the quotes are used to distinguish this as data, and not some other word used by the program. A list of letters is more commonly called a string, and strings are one of many data types. Other data types are: integers like 0 4 3 or floats (decimals) like 0.2 0.5 10.5. We are defining some data that is stored in some way.\n",
        "\n",
        "The equals sign denotes that we want to store our string in the thing to the left of our equals sign. These are called operators, they \"operate\" on things to their left and right. The plus sign is an operator, and can be used to add values: 3 + 4\n",
        "\n",
        "The part on the left is a variable. This is where our string is stored in the program, and we can use that name to refer to the value contained within. We print our **name** variable somehow (don't worry, we will explain), and get the value within. It isn't clear why this sort of thing is useful now, it will become clear later."
      ]
    },
    {
      "cell_type": "code",
      "metadata": {
        "id": "gjLwOEOVoVN8",
        "colab_type": "code",
        "colab": {},
        "outputId": "a467f5ed-5525-457f-a54d-0105f071af09"
      },
      "source": [
        "some_var = 10\n",
        "some_var = 20\n",
        "print(some_var)"
      ],
      "execution_count": null,
      "outputs": [
        {
          "output_type": "stream",
          "text": [
            "20\n"
          ],
          "name": "stdout"
        }
      ]
    },
    {
      "cell_type": "markdown",
      "metadata": {
        "id": "_QQtdLAooVOK",
        "colab_type": "text"
      },
      "source": [
        "We can use the variable name more than once in a program, and we can initialise a variable with the equals sign more than once. All that happens is that we just overwrite the data \"inside\" our variable."
      ]
    },
    {
      "cell_type": "markdown",
      "metadata": {
        "id": "n_A7tkMioVOL",
        "colab_type": "text"
      },
      "source": [
        "What about print? This is a function. And the purpose of the function is to take some data, perform a computation using that data, and then return another value. So we call a function by using a special name, and pass arguments to the function inside the brackets (note: variables are called arguments when passed into a function)."
      ]
    },
    {
      "cell_type": "markdown",
      "metadata": {
        "id": "4sYoLt90oVON",
        "colab_type": "text"
      },
      "source": [
        "**Functions**"
      ]
    },
    {
      "cell_type": "code",
      "metadata": {
        "id": "7tDS2LWdoVOO",
        "colab_type": "code",
        "colab": {}
      },
      "source": [
        "def add(a, b):\n",
        "    return a + b"
      ],
      "execution_count": null,
      "outputs": []
    },
    {
      "cell_type": "markdown",
      "metadata": {
        "id": "liB--KiwoVOZ",
        "colab_type": "text"
      },
      "source": [
        "What would do we get if we call this function?"
      ]
    },
    {
      "cell_type": "code",
      "metadata": {
        "id": "EnkXeQdsoVOb",
        "colab_type": "code",
        "colab": {},
        "outputId": "7da7de6a-f0c8-4dbc-d1d7-0a3894f3a0b7"
      },
      "source": [
        "number_1 = 1\n",
        "number_2 = 3\n",
        "result = add(number_1, number_2)\n",
        "print(result)"
      ],
      "execution_count": null,
      "outputs": [
        {
          "output_type": "stream",
          "text": [
            "4\n"
          ],
          "name": "stdout"
        }
      ]
    },
    {
      "cell_type": "markdown",
      "metadata": {
        "id": "kgcWRKrXoVOm",
        "colab_type": "text"
      },
      "source": [
        "Again, this is all intuitive but something far more complex is clearly going on here.\n",
        "\n",
        "We have defined our own function, the definition of which starts with the word def. At this point, it is worth nothing that **def** is a keyword: special words which are used to define basic constructs in Python. If we tried to call a variable **def**, Python gets confused (thinking that you are defining a function).\n",
        "\n",
        "So we name our function, and then define the parameters (more pedantry, when we define a function the arguments that we pass are, technically, called parameters...it is like they are trying to put people off, don't worry) that our function requires to run.\n",
        "\n",
        "A few things are worth noting briefly:"
      ]
    },
    {
      "cell_type": "markdown",
      "metadata": {
        "id": "HEfNWH9VoVOp",
        "colab_type": "text"
      },
      "source": [
        "Our function can ask for parameters and not use them"
      ]
    },
    {
      "cell_type": "code",
      "metadata": {
        "id": "ComNDTHCoVOr",
        "colab_type": "code",
        "colab": {}
      },
      "source": [
        "##Always returns 30, get baited, 30 is best\n",
        "def add_baited(a, b):\n",
        "    return 10+20"
      ],
      "execution_count": null,
      "outputs": []
    },
    {
      "cell_type": "markdown",
      "metadata": {
        "id": "wEpook70oVOy",
        "colab_type": "text"
      },
      "source": [
        "Our function can ask for no parameters"
      ]
    },
    {
      "cell_type": "code",
      "metadata": {
        "id": "pq97hJnqoVOz",
        "colab_type": "code",
        "colab": {}
      },
      "source": [
        "##Always returns 30, don't care bruv, 30 is still best\n",
        "def add_not_interested():\n",
        "    return 10+20"
      ],
      "execution_count": null,
      "outputs": []
    },
    {
      "cell_type": "markdown",
      "metadata": {
        "id": "qhfHUYLZoVO7",
        "colab_type": "text"
      },
      "source": [
        "Finally, our function returns some result to the user but that isn't necessary either. Note that the print function didn't return anything, it just printed the value that was \"inside\" our variable."
      ]
    },
    {
      "cell_type": "code",
      "metadata": {
        "id": "eGYdkFkGoVO9",
        "colab_type": "code",
        "colab": {}
      },
      "source": [
        "def i_am_pointless(value):\n",
        "    print(value)\n",
        "    return"
      ],
      "execution_count": null,
      "outputs": []
    },
    {
      "cell_type": "markdown",
      "metadata": {
        "id": "sS_JVM-LoVPJ",
        "colab_type": "text"
      },
      "source": [
        "It is worth briefly noting that functions are the main construct of any program, almost every programming language, and are the reason why programming is useful.\n",
        "\n",
        "It isn't immediately obvious why but if we return to our add function: what is going on here? It looks straightforward, we are just adding...but the key point is that the knowledge about how to add is abstracted away from any particular sum.\n",
        "\n",
        "We haven't created a function which only works for 8 + 6 but which works for any two numbers. This abstraction away from a specific sum means that we can just repeatedly call this function, and we will always get that same logic without having to write out the numbers. The logic of adding is abstracted away, we just need **a** and **b**. Once calculations become more complex, this is essential and why programming is so valuable.\n",
        "\n",
        "To tidy up the loose ends: the plus sign is an operator, we can assign numbers to variables as well as strings, and we can return values from a function and store that in a variable."
      ]
    },
    {
      "cell_type": "markdown",
      "metadata": {
        "id": "pXZuF9tpoVPL",
        "colab_type": "text"
      },
      "source": [
        "**Function Scope**\n",
        "\n",
        "We have to take a boring detour here:"
      ]
    },
    {
      "cell_type": "code",
      "metadata": {
        "id": "_s1saVdOoVPN",
        "colab_type": "code",
        "colab": {},
        "outputId": "81f3380e-edb3-4ed9-ad73-dc3a823da7ea"
      },
      "source": [
        "a = 10\n",
        "def add_2(a, b):\n",
        "    return a + b\n",
        "result = add_2(5, 10)\n",
        "print(result)"
      ],
      "execution_count": null,
      "outputs": [
        {
          "output_type": "stream",
          "text": [
            "15\n"
          ],
          "name": "stdout"
        }
      ]
    },
    {
      "cell_type": "markdown",
      "metadata": {
        "id": "ebI4saYDoVPW",
        "colab_type": "text"
      },
      "source": [
        "What is happening here? We define **a** twice but the parameter takes precedence why? Couldn't this also print 20?\n",
        "\n",
        "Every programming language has scopes which basically define how naming conflicts between variables are resolved. Unsurprisingly, the solution to this problem is: don't use the same variable name.\n",
        "\n",
        "But this example, highlights something about scope: when we call the function, it runs the stuff inside the definition, and overwrites the value pointing to **a**. So when we refer to **a**, it means something new within the function."
      ]
    },
    {
      "cell_type": "code",
      "metadata": {
        "id": "rIHAFBGtoVPX",
        "colab_type": "code",
        "colab": {},
        "outputId": "93a5d047-3c86-475d-f677-7842811e9273"
      },
      "source": [
        "c = 10\n",
        "def add_3(a, b):\n",
        "    return a + b + c\n",
        "\n",
        "result = add_3(5, 5)\n",
        "print(result)"
      ],
      "execution_count": null,
      "outputs": [
        {
          "output_type": "stream",
          "text": [
            "20\n"
          ],
          "name": "stdout"
        }
      ]
    },
    {
      "cell_type": "markdown",
      "metadata": {
        "id": "C3jp1giPoVPf",
        "colab_type": "text"
      },
      "source": [
        "But if we use a totally different name, it will still search outside the \"scope\" of the function into the \"global scope\" - the highest level, usually the main scope in which the program is running - and find **c** there. \n",
        "\n",
        "And yes, the scope relates to the indentation. When we indent, we are doing so to denote a change in scope. So when we define a new function, the function's code is indented (but not the definition) so it is distinct from the scope containing it.\n",
        "\n",
        "The rules around scope in Python are actually a bit more tricky than this because Python has relatively few restrictions on how run programs. But it is worth saying that the code above is terrible and never something you should do. Why? Because you may not define **c** and **add_3** close together and so the program would run, you would get some output, and possibly not realise that the value **c** was coming from somewhere else. Instead:"
      ]
    },
    {
      "cell_type": "code",
      "metadata": {
        "id": "kNtoqgHdoVPh",
        "colab_type": "code",
        "colab": {}
      },
      "source": [
        "def add_3(a, b):\n",
        "    c = 10\n",
        "    return a + b + c"
      ],
      "execution_count": null,
      "outputs": []
    },
    {
      "cell_type": "markdown",
      "metadata": {
        "id": "eAALnDoAoVPs",
        "colab_type": "text"
      },
      "source": [
        "Here, c is defined where it is used. And if we try to use c outside this function, Python will be unable to find it and throw an error which is far more useful to us.\n",
        "\n",
        "These examples are tedious but should, hopefully, give a brief insight into how computer programs run. Scope also can cause weird and baffling errors if you are new to programming."
      ]
    },
    {
      "cell_type": "markdown",
      "metadata": {
        "id": "1DENTuR2oVPt",
        "colab_type": "text"
      },
      "source": [
        "**Lists**"
      ]
    },
    {
      "cell_type": "code",
      "metadata": {
        "id": "7f8CY4xuoVPu",
        "colab_type": "code",
        "colab": {}
      },
      "source": [
        "passes = [20, 40, 50]\n",
        "players = [\"Leo Messi\", \"Cristiano Ronaldo\"]"
      ],
      "execution_count": null,
      "outputs": []
    },
    {
      "cell_type": "markdown",
      "metadata": {
        "id": "kZsh-SNDoVP3",
        "colab_type": "text"
      },
      "source": [
        "Lists are useful if you are interested in FPL but something may be a bit puzzling here. We have clearly defined something that contains numbers or strings...but this isn't like any data that we have seen before. The list is not data itself but is data that stores data?\n",
        "\n",
        "This is another example of abstraction. To see why this useful, think about why it is important that lists exist at all. Why do we need lists? They just store data, the data is surely more important, the list is just the wrapper.\n",
        "\n",
        "But what if we need to do some calculation that is unique to lists and not the values that they contain? So we need some abstraction of a list so that we can perform some calculations that are unique to lists. Some examples may include: getting the first member of a list or getting the length of the list."
      ]
    },
    {
      "cell_type": "code",
      "metadata": {
        "id": "ceL2Dn1foVP5",
        "colab_type": "code",
        "colab": {},
        "outputId": "839b94a2-0a6c-4016-8201-462583e1aa70"
      },
      "source": [
        "print(len(passes))\n",
        "print(players[0])"
      ],
      "execution_count": null,
      "outputs": [
        {
          "output_type": "stream",
          "text": [
            "3\n",
            "Leo Messi\n"
          ],
          "name": "stdout"
        }
      ]
    },
    {
      "cell_type": "markdown",
      "metadata": {
        "id": "eXa2Rc0joVQB",
        "colab_type": "text"
      },
      "source": [
        "This square brackets business looks odd but it is just a special syntax unique to lists, called indexing, which returns the first element. Why zero? In computer science, zero not one is the first element i.e. 0, 1, 2, 3, 4, 5 of a list."
      ]
    },
    {
      "cell_type": "markdown",
      "metadata": {
        "id": "HVX9WXtboVQD",
        "colab_type": "text"
      },
      "source": [
        "**For Loops**"
      ]
    },
    {
      "cell_type": "code",
      "metadata": {
        "id": "zspQv-zqoVQG",
        "colab_type": "code",
        "colab": {},
        "outputId": "1961bd1b-6422-42b9-91ef-9e1ebe3f658d"
      },
      "source": [
        "for player in players:\n",
        "    print(player)"
      ],
      "execution_count": null,
      "outputs": [
        {
          "output_type": "stream",
          "text": [
            "Leo Messi\n",
            "Cristiano Ronaldo\n"
          ],
          "name": "stdout"
        }
      ]
    },
    {
      "cell_type": "markdown",
      "metadata": {
        "id": "qSIgGwZmoVQO",
        "colab_type": "text"
      },
      "source": [
        "Now this is real witchcraft looking code. Again, we can roughly intuit what is going on here based on the result but exactly how is unclear.\n",
        "\n",
        "Well, the syntax is more confusing than the operation itself. The **in** is just used to refer to a list, or something with lots of values, and we are just scrolling through the list selecting each value. And the **player** variable will refer to each value within a list. This is called a for loop, and is common to most programming languages. Note, that the terminology used in Python is that **players** is an iterable and the for loop is and iterator. So an **iterator** is something that operates on an **iterable**. On each loop, **player** gets redfined."
      ]
    },
    {
      "cell_type": "code",
      "metadata": {
        "id": "--kp4j1roVQQ",
        "colab_type": "code",
        "colab": {},
        "outputId": "e0acd580-8617-4e2e-880f-5f4cbb93df74"
      },
      "source": [
        "shots = [1, 0, 4]\n",
        "total = 0\n",
        "for shot in shots:\n",
        "    total = total + shot\n",
        "print(total)"
      ],
      "execution_count": null,
      "outputs": [
        {
          "output_type": "stream",
          "text": [
            "5\n"
          ],
          "name": "stdout"
        }
      ]
    },
    {
      "cell_type": "markdown",
      "metadata": {
        "id": "MWxAp6PIoVQX",
        "colab_type": "text"
      },
      "source": [
        "To see why this is useful, imagine that we have a list containing the number of shots a player took in their last few matches. We can use our iterator to calculate the total number of shots. Note, that we have to define our total variable outside the scope of our loop. Why?"
      ]
    },
    {
      "cell_type": "code",
      "metadata": {
        "id": "G7oy-5MmoVQZ",
        "colab_type": "code",
        "colab": {},
        "outputId": "8f87da68-33a9-4e22-f57b-bf10f0af8800"
      },
      "source": [
        "shots = [1, 0, 4]\n",
        "for shot in shots:\n",
        "    total = 0\n",
        "    total = total + shot\n",
        "print(total)"
      ],
      "execution_count": null,
      "outputs": [
        {
          "output_type": "stream",
          "text": [
            "4\n"
          ],
          "name": "stdout"
        }
      ]
    },
    {
      "cell_type": "markdown",
      "metadata": {
        "id": "8VSobdn1oVQe",
        "colab_type": "text"
      },
      "source": [
        "Every time we run our loop, the code inside the scope of our loop runs again with a new value for shot. If we want to preserve some value over the length of the loop, therefore, we need to keep that variable outside the scope of our loop so it doesn't get overwritten to zero on each loop. We overwrite on each loop but use the old value to add onto the new value.\n",
        "\n",
        "And note, we can do something like this:"
      ]
    },
    {
      "cell_type": "code",
      "metadata": {
        "id": "aFptcnULoVQf",
        "colab_type": "code",
        "colab": {},
        "outputId": "6409cad1-db1e-4ed4-e7c4-05f0f0a25f54"
      },
      "source": [
        "def shot_sum_calculator(shot_list):\n",
        "    total = 0\n",
        "    for shot in shot_list:\n",
        "        total = total + shot\n",
        "    return total\n",
        "\n",
        "messi_shots = [1, 0, 4]\n",
        "ronaldo_shots = [4, 2, 0]\n",
        "\n",
        "messi_total = shot_sum_calculator(messi_shots)\n",
        "ronaldo_total = shot_sum_calculator(ronaldo_shots)\n",
        "print(messi_total)\n",
        "print(ronaldo_total)"
      ],
      "execution_count": null,
      "outputs": [
        {
          "output_type": "stream",
          "text": [
            "5\n",
            "6\n"
          ],
          "name": "stdout"
        }
      ]
    },
    {
      "cell_type": "markdown",
      "metadata": {
        "id": "bbXly94aoVQq",
        "colab_type": "text"
      },
      "source": [
        "Programming is valuable because we can abstract the logic of our computation away from any particular data values. Here, we have created a function which will calculate the total number of shots for any list of shots that you give it. It is abstracted away from our data, it doesn't know about Messi, it doesn't know about Ronaldo, so we can use it for any player, any time, and we will get the right answer. This may seem simple but when you have thousands of players with shots for thousands of games, that abstraction is important. A computer will calculate the total for each player in nanoseconds, and we can (unlike Excel) make any additional calculations, as complex as we can imagine."
      ]
    },
    {
      "cell_type": "markdown",
      "metadata": {
        "id": "ChPGzNkmoVQr",
        "colab_type": "text"
      },
      "source": [
        "**If/Else Statement**"
      ]
    },
    {
      "cell_type": "markdown",
      "metadata": {
        "id": "yyjo2qtsoVQu",
        "colab_type": "text"
      },
      "source": [
        "The other only essential programming construct that I have to tell you about is this:"
      ]
    },
    {
      "cell_type": "code",
      "metadata": {
        "id": "WqpGDcrpoVQu",
        "colab_type": "code",
        "colab": {},
        "outputId": "199c91ff-349d-439b-90f0-bdcf65cf7446"
      },
      "source": [
        "def add_4(a, b):\n",
        "    if a < 0:\n",
        "        return a\n",
        "    elif a < 10:\n",
        "        return b\n",
        "    else:\n",
        "        return a + b\n",
        "    \n",
        "print(add_4(11, 2))\n",
        "print(add_4(9, 2))\n",
        "print(add_4(-1, 3))"
      ],
      "execution_count": null,
      "outputs": [
        {
          "output_type": "stream",
          "text": [
            "13\n",
            "2\n",
            "-1\n"
          ],
          "name": "stdout"
        }
      ]
    },
    {
      "cell_type": "markdown",
      "metadata": {
        "id": "K-hfKD8XoVQ1",
        "colab_type": "text"
      },
      "source": [
        "Clearly, the program is looking at some conditions and deciding what code to run but how?\n",
        "\n",
        "The terms after **if** and **elif** are control-flow statements that control the flow of the program, and decide which code will run. These statements evaluate to True or False - booleans - and if the statement is true, then the code indented runs with no other branch running.\n",
        "\n",
        "So the first statement a < 0 is either True or False, if False it goes to the next statement a < 10, and if False it goes to the final statement. Note there is only one **if** and one **else** - which runs if every other statement is False - but there can be multiple **elif** keywords for each if statement. The only necessary component of an if statement is the **if**, **else**/**elif** do not need to be included.\n",
        "\n",
        "If statements are necessary components for all programming but I would suggest that people build some intuition with them. Although they seem simple, they are a fairly consistent source of bugs, and it is really only with practice that you learn how not to use them."
      ]
    },
    {
      "cell_type": "markdown",
      "metadata": {
        "id": "XWfqNxeXoVQ2",
        "colab_type": "text"
      },
      "source": [
        "**Summary**"
      ]
    },
    {
      "cell_type": "markdown",
      "metadata": {
        "id": "ybTjNZ0noVQ4",
        "colab_type": "text"
      },
      "source": [
        "The above is 95% of the most basic knowledge required for programming. This may seem surprising because few people could read the stuff above and then start to program. It is like suggesting that someone could read a few sentences in Italian, and have all the basic knowledge required to disassemble a Ferrari using the Italian instructions.\n",
        "\n",
        "But learning a programming language is slightly different to learning a human language. Yes, there is a lot of complexity. How do I read from a CSV file? How do I run a program on my computer? Where does the print function come from? But a lot of this is just the implementation details of the language that you are using. Some languages have more complex constructs on top of the things we mention above, I will briefly outline the most important one below, but the most fundamental constructs, that do 95% of the work of storing and operating on data, that give intuition about what progamming is have been covered above.\n",
        "\n",
        "So I will outline one last construct, and go through an example application that demonstrates how to use this knowledge. Don't get disheartened. You will make it."
      ]
    },
    {
      "cell_type": "markdown",
      "metadata": {
        "id": "KN8UKLs2oVQ6",
        "colab_type": "text"
      },
      "source": [
        "**Objects**\n",
        "\n",
        "The last construct that we are missing is one that is often hard for those new to programming to understand because, frankly, it makes very little sense outside of programming.\n",
        "\n",
        "When I tell you about a for loop, you can imagine a box and pulling things out of the box, doing something with each thing until the box is empty.\n",
        "\n",
        "Objects are abstract...but that is actually the point. An object is a data type, like a number or a string, but one that you define. That object can store data but it can also define operations on that data too. For example, we can imagine a number object which represents a specific number - like 9 or 5 - but also has an add operation, a minus operation, etc. which are natural to all numbers. That is an object.\n",
        "\n",
        "And to define an object, we need to write something called a class."
      ]
    },
    {
      "cell_type": "code",
      "metadata": {
        "id": "Uramy89SoVQ7",
        "colab_type": "code",
        "colab": {},
        "outputId": "9e9dedca-cdb4-40bc-8aad-b5ce73c7b13a"
      },
      "source": [
        "class Player:\n",
        "    \n",
        "    def __init__(self, name):\n",
        "        self.name = name\n",
        "        return\n",
        "    \n",
        "    def get_name(self):\n",
        "        return self.name\n",
        "    \n",
        "messi = Player(\"Leo Messi\")\n",
        "ronaldo = Player(\"Cristiano Ronaldo\")\n",
        "\n",
        "print(messi.get_name())"
      ],
      "execution_count": null,
      "outputs": [
        {
          "output_type": "stream",
          "text": [
            "Leo Messi\n"
          ],
          "name": "stdout"
        }
      ]
    },
    {
      "cell_type": "markdown",
      "metadata": {
        "id": "AXqGxAiPoVRC",
        "colab_type": "text"
      },
      "source": [
        "Many things about this are going to be unclear. Don't worry. It will make sense to you with time and practice. But I will note a few things.\n",
        "\n",
        "First, the functions here are defined within the scope of our class. This means we can't use them outside the class, they only make sense when you are referring to a Player object.\n",
        "\n",
        "Second, we define a class but we create objects. A class is just a definition of the internals but an object refers to an actual player: Messi or Ronaldo, in this case. This distinction is important, again, because we are seeking to abstract the behaviour away. A class refers to a general non-specific definition that can be used if we provide a name, an object is specific.\n",
        "\n",
        "Third, the weird looking **__init__** function is just something internal to the programming lanugage that gets called whenever we try to create the object. This is where we pass the name of our player into our object. The weird-sounding **self** argument is actually the object itself...so we pass the object to the object? Yes, basically. Don't worry, just think...we need to define some properties on our player. We have defined their name, we could add their age, place of birth, whatever other properties are unique and interesting to players. But how do we store those properties, we have to store them on the object so when we create the object, we pass in the name, and store that on the object itself so we can use it later.\n",
        "\n",
        "Fourth, objects are defined with capital letters, this is so they are distinct from functions because when we create an object, we do it using brackets like a function...so they need to be distinct. And when we create an object, the return value is the object itself. We can call functions on that object with a **.function_name()**, this is just a way to refer to properties on the object (we used it in **__init__** too).\n",
        "\n",
        "Finally, whilst most programming lanagues uses Objects to create useful abstrations, it is not 100% necessary and is less likely to be used in the kind of data-oriented code that is common to FPL. This does not mean that it isn't useful, esp. when you write complex programs, but it is more common with applications in other areas. Some programming paradigms/languages have no objects at all (and some programming languages, including Python and Jave, use objects for everything)."
      ]
    },
    {
      "cell_type": "code",
      "metadata": {
        "id": "3Qsd1cYkoVRD",
        "colab_type": "code",
        "colab": {}
      },
      "source": [
        "##Import code from a package into our scope\n",
        "##A package refers to a Python package, which is code usually written by someone else\n",
        "##with some functionality that you require.\n",
        "##You install the packages from the internet using pip, a Python package manager, which\n",
        "##installs the packages onto your computer.\n",
        "##When you type import, Python searches the folder with those packages.\n",
        "import pandas as pd\n",
        "\n",
        "##reading a csv file from a github repo\n",
        "players = pd.read_csv(\"https://raw.githubusercontent.com/vaastav/Fantasy-Premier-League/master/data/2019-20/cleaned_players.csv\")\n",
        "with_points = players[['second_name', 'total_points']]\n",
        "##Understanding this requires understanding about pandas which is beyond the scope of this \n",
        "##tutorial, basically we are turning this data into a list\n",
        "to_list = with_points.values.tolist()"
      ],
      "execution_count": null,
      "outputs": []
    },
    {
      "cell_type": "code",
      "metadata": {
        "id": "lQVX-c6yoVRJ",
        "colab_type": "code",
        "colab": {},
        "outputId": "d4e7b3a9-d6aa-4790-e5f8-a5a1513b74ea"
      },
      "source": [
        "##We have a list of lists, each list contains a players second name\n",
        "##and the number of fantasy points they scored in the 19-20 season\n",
        "to_list[0]"
      ],
      "execution_count": null,
      "outputs": [
        {
          "output_type": "execute_result",
          "data": {
            "text/plain": [
              "['Mustafi', 43]"
            ]
          },
          "metadata": {
            "tags": []
          },
          "execution_count": 54
        }
      ]
    },
    {
      "cell_type": "code",
      "metadata": {
        "id": "zScy_ByRoVRU",
        "colab_type": "code",
        "colab": {}
      },
      "source": [
        "##So let's see if we can find who the top five points scorers were that season?\n",
        "\n",
        "##We need to give sorted a function which defines what value we want to sort on\n",
        "##Without this function, it wouldn't know whether to sort on the player name,\n",
        "##or the total number of points\n",
        "def sort_func(value):\n",
        "    return value[1]\n",
        "\n",
        "##This is a built-in sorting function in Python. We pass in a key which returns\n",
        "##the value to sort on, we pass our list, and we reverse the order so that our list\n",
        "##sorts values in descending value, as the default value is ascending\n",
        "top = sorted(to_list, key=sort_func, reverse=True)"
      ],
      "execution_count": null,
      "outputs": []
    },
    {
      "cell_type": "code",
      "metadata": {
        "id": "-thWpFuNoVRa",
        "colab_type": "code",
        "colab": {},
        "outputId": "2500c2d4-3834-42c2-aba6-0d840efc963e"
      },
      "source": [
        "##We use the indexing syntax on our list to return the first 5 values\n",
        "##i.e. the top 5 points scorers for the 19/20 season.\n",
        "top[0:5]"
      ],
      "execution_count": null,
      "outputs": [
        {
          "output_type": "execute_result",
          "data": {
            "text/plain": [
              "[['De Bruyne', 251],\n",
              " ['Salah', 233],\n",
              " ['Mané', 221],\n",
              " ['Vardy', 210],\n",
              " ['Alexander-Arnold', 210]]"
            ]
          },
          "metadata": {
            "tags": []
          },
          "execution_count": 60
        }
      ]
    },
    {
      "cell_type": "code",
      "metadata": {
        "id": "03oKMhZJoVRh",
        "colab_type": "code",
        "colab": {}
      },
      "source": [
        ""
      ],
      "execution_count": null,
      "outputs": []
    }
  ]
}