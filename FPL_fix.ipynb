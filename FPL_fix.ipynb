{
  "nbformat": 4,
  "nbformat_minor": 0,
  "metadata": {
    "kernelspec": {
      "display_name": "Python 3",
      "language": "python",
      "name": "python3"
    },
    "language_info": {
      "codemirror_mode": {
        "name": "ipython",
        "version": 3
      },
      "file_extension": ".py",
      "mimetype": "text/x-python",
      "name": "python",
      "nbconvert_exporter": "python",
      "pygments_lexer": "ipython3",
      "version": "3.8.3"
    },
    "colab": {
      "name": "FPL_fix.ipynb",
      "provenance": [],
      "include_colab_link": true
    }
  },
  "cells": [
    {
      "cell_type": "markdown",
      "metadata": {
        "id": "view-in-github",
        "colab_type": "text"
      },
      "source": [
        "<a href=\"https://colab.research.google.com/github/calumrussell/fpl/blob/master/FPL_fix.ipynb\" target=\"_parent\"><img src=\"https://colab.research.google.com/assets/colab-badge.svg\" alt=\"Open In Colab\"/></a>"
      ]
    },
    {
      "cell_type": "markdown",
      "metadata": {
        "id": "evkoAVD2myPk",
        "colab_type": "text"
      },
      "source": [
        "In this post, we are going to calculate the rolling fixture difficulty for all teams in the Premier League.\n",
        "\n",
        "We are going to use the team strength ratings from [vaastav's Github repo](https://github.com/vaastav/Fantasy-Premier-League/tree/master/data/2019-20). In reality, we would probably gain accuracy from adding both strength/defence and home/away parameters to our strength model. \n",
        "\n",
        "Irregardless, the code involved in constructing rolling fixture difficulty would be similar."
      ]
    },
    {
      "cell_type": "code",
      "metadata": {
        "id": "hrLtKoTWmyPo",
        "colab_type": "code",
        "colab": {}
      },
      "source": [
        "import pandas as pd\n",
        "import numpy as np\n",
        "\n",
        "##Import fixtures from Github\n",
        "fixtures = pd.read_csv(\"https://raw.githubusercontent.com/vaastav/Fantasy-Premier-League/master/data/2020-21/fixtures.csv\")\n",
        "##At time of writing, some fixtures are yet to be scheduled so there\n",
        "##are a few rows that need to be dropped, these will presumably\n",
        "##disappear later\n",
        "fixtures.dropna(subset=['kickoff_time'], inplace=True)"
      ],
      "execution_count": 1,
      "outputs": []
    },
    {
      "cell_type": "code",
      "metadata": {
        "id": "pPwkKL0ZmyP1",
        "colab_type": "code",
        "colab": {}
      },
      "source": [
        "from datetime import datetime\n",
        "\n",
        "##Create new column with epoch time, this is not strictly necessary but\n",
        "##I prefer working with epoch dates, and I like to make sure that\n",
        "##the sorting is correct\n",
        "date_str = \"%Y-%m-%dT%H:%M:%SZ\"\n",
        "fixtures['epoch'] = fixtures['kickoff_time'].apply(lambda x: datetime.strptime(x, date_str).timestamp())"
      ],
      "execution_count": 2,
      "outputs": []
    },
    {
      "cell_type": "code",
      "metadata": {
        "id": "NbxZ8vOkmyQJ",
        "colab_type": "code",
        "colab": {}
      },
      "source": [
        "##Import teams from Github\n",
        "teams = pd.read_csv(\"https://raw.githubusercontent.com/vaastav/Fantasy-Premier-League/master/data/2020-21/teams.csv\")"
      ],
      "execution_count": 3,
      "outputs": []
    },
    {
      "cell_type": "code",
      "metadata": {
        "id": "DNzotN1WmyQU",
        "colab_type": "code",
        "colab": {}
      },
      "source": [
        "##We have to merge our team strengths onto our fixtures, this\n",
        "##requires lots of confusing looking merges but is actually\n",
        "##straightforward\n",
        "team_strength=teams[['id', 'strength']]\n",
        "with_away_strength = fixtures.merge(team_strength, left_on='team_a', right_on='id')\n",
        "with_away_strength.rename(columns={\"strength\": \"away_strength\"}, inplace=True)\n",
        "with_home_strength = with_away_strength.merge(team_strength, left_on='team_h', right_on='id')\n",
        "with_home_strength.rename(columns={\"strength\": \"home_strength\"}, inplace=True)\n",
        "with_home_away_strength = with_home_strength"
      ],
      "execution_count": 4,
      "outputs": []
    },
    {
      "cell_type": "code",
      "metadata": {
        "id": "baOl8TMNmyQc",
        "colab_type": "code",
        "colab": {}
      },
      "source": [
        "league_teams = with_home_away_strength['team_a'].unique()"
      ],
      "execution_count": 5,
      "outputs": []
    },
    {
      "cell_type": "code",
      "metadata": {
        "id": "72hfwLjFmyQt",
        "colab_type": "code",
        "colab": {
          "base_uri": "https://localhost:8080/",
          "height": 503
        },
        "outputId": "08931ef8-6df8-4c76-9323-d4ef1be16b9a"
      },
      "source": [
        "##We have our data formatted, we now need to work out how to calculate\n",
        "##fixture strength for each team, over each rolling period\n",
        "\n",
        "##There are quite a few ways to do this. It is possible to calculate rolling\n",
        "##fixture difficulty using a pandas one-liner - groupby and rolling - but\n",
        "##we would need rows which are unique to each team, instead we have match rows\n",
        "##with home and away sides in one row. This can be solved by merging our dataframe\n",
        "##onto itself...but this is a bit confusing.\n",
        "\n",
        "##Instead we are just going to loop through each team, filter our dataframe for\n",
        "##matches in which that team is a partcipant, calculate the difficulty of\n",
        "##opponents, and then call pandas' rolling function on that list of numbers.\n",
        "##I think this approach is going to be slower in some cases but it won't matter\n",
        "##here and we can highlight some techniques for working with pandas dataframes.\n",
        "\n",
        "res = []\n",
        "for team in league_teams:\n",
        "    team_matches = with_home_away_strength[\n",
        "        (with_home_away_strength['team_a']==team) |\n",
        "        (with_home_away_strength['team_h']==team)\n",
        "    ]\n",
        "    team_matches.sort_values('epoch', inplace=True)\n",
        "    team_matches['opp_strength'] = np.where(\n",
        "        team_matches['team_a'] == team,\n",
        "        team_matches['home_strength'],\n",
        "        team_matches['away_strength']\n",
        "    )\n",
        "    team_matches.to_csv('test.csv')\n",
        "    team_matches['rolling'] = team_matches['opp_strength'].rolling(5).mean()\n",
        "    team_matches['team_id'] = team\n",
        "    team_matches['gw'] = team_matches['event'] - 4\n",
        "    temp = team_matches[['team_id', 'epoch','rolling', 'gw']]\n",
        "    temp.dropna(subset=['rolling'], inplace=True)\n",
        "    res.append(temp)\n",
        "    "
      ],
      "execution_count": 6,
      "outputs": [
        {
          "output_type": "stream",
          "text": [
            "/usr/local/lib/python3.6/dist-packages/ipykernel_launcher.py:22: SettingWithCopyWarning: \n",
            "A value is trying to be set on a copy of a slice from a DataFrame\n",
            "\n",
            "See the caveats in the documentation: https://pandas.pydata.org/pandas-docs/stable/user_guide/indexing.html#returning-a-view-versus-a-copy\n",
            "/usr/local/lib/python3.6/dist-packages/ipykernel_launcher.py:26: SettingWithCopyWarning: \n",
            "A value is trying to be set on a copy of a slice from a DataFrame.\n",
            "Try using .loc[row_indexer,col_indexer] = value instead\n",
            "\n",
            "See the caveats in the documentation: https://pandas.pydata.org/pandas-docs/stable/user_guide/indexing.html#returning-a-view-versus-a-copy\n",
            "/usr/local/lib/python3.6/dist-packages/ipykernel_launcher.py:29: SettingWithCopyWarning: \n",
            "A value is trying to be set on a copy of a slice from a DataFrame.\n",
            "Try using .loc[row_indexer,col_indexer] = value instead\n",
            "\n",
            "See the caveats in the documentation: https://pandas.pydata.org/pandas-docs/stable/user_guide/indexing.html#returning-a-view-versus-a-copy\n",
            "/usr/local/lib/python3.6/dist-packages/ipykernel_launcher.py:30: SettingWithCopyWarning: \n",
            "A value is trying to be set on a copy of a slice from a DataFrame.\n",
            "Try using .loc[row_indexer,col_indexer] = value instead\n",
            "\n",
            "See the caveats in the documentation: https://pandas.pydata.org/pandas-docs/stable/user_guide/indexing.html#returning-a-view-versus-a-copy\n",
            "/usr/local/lib/python3.6/dist-packages/ipykernel_launcher.py:31: SettingWithCopyWarning: \n",
            "A value is trying to be set on a copy of a slice from a DataFrame.\n",
            "Try using .loc[row_indexer,col_indexer] = value instead\n",
            "\n",
            "See the caveats in the documentation: https://pandas.pydata.org/pandas-docs/stable/user_guide/indexing.html#returning-a-view-versus-a-copy\n",
            "/usr/local/lib/python3.6/dist-packages/ipykernel_launcher.py:33: SettingWithCopyWarning: \n",
            "A value is trying to be set on a copy of a slice from a DataFrame\n",
            "\n",
            "See the caveats in the documentation: https://pandas.pydata.org/pandas-docs/stable/user_guide/indexing.html#returning-a-view-versus-a-copy\n"
          ],
          "name": "stderr"
        }
      ]
    },
    {
      "cell_type": "code",
      "metadata": {
        "id": "DYk4jpFGmyQ4",
        "colab_type": "code",
        "colab": {}
      },
      "source": [
        "rolling_fixture_difficulty = pd.concat(res)"
      ],
      "execution_count": 7,
      "outputs": []
    },
    {
      "cell_type": "code",
      "metadata": {
        "id": "wWGTr6lYmyQ_",
        "colab_type": "code",
        "colab": {
          "base_uri": "https://localhost:8080/",
          "height": 708
        },
        "outputId": "956f67f7-ff65-4a6b-9f97-7405527f4ca0"
      },
      "source": [
        "##Again, note that some teams, at the time of writing, have not been assigned\n",
        "##their full season of matches.\n",
        "rolling_fixture_difficulty.groupby('team_id').describe()['rolling']"
      ],
      "execution_count": 8,
      "outputs": [
        {
          "output_type": "execute_result",
          "data": {
            "text/html": [
              "<div>\n",
              "<style scoped>\n",
              "    .dataframe tbody tr th:only-of-type {\n",
              "        vertical-align: middle;\n",
              "    }\n",
              "\n",
              "    .dataframe tbody tr th {\n",
              "        vertical-align: top;\n",
              "    }\n",
              "\n",
              "    .dataframe thead th {\n",
              "        text-align: right;\n",
              "    }\n",
              "</style>\n",
              "<table border=\"1\" class=\"dataframe\">\n",
              "  <thead>\n",
              "    <tr style=\"text-align: right;\">\n",
              "      <th></th>\n",
              "      <th>count</th>\n",
              "      <th>mean</th>\n",
              "      <th>std</th>\n",
              "      <th>min</th>\n",
              "      <th>25%</th>\n",
              "      <th>50%</th>\n",
              "      <th>75%</th>\n",
              "      <th>max</th>\n",
              "    </tr>\n",
              "    <tr>\n",
              "      <th>team_id</th>\n",
              "      <th></th>\n",
              "      <th></th>\n",
              "      <th></th>\n",
              "      <th></th>\n",
              "      <th></th>\n",
              "      <th></th>\n",
              "      <th></th>\n",
              "      <th></th>\n",
              "    </tr>\n",
              "  </thead>\n",
              "  <tbody>\n",
              "    <tr>\n",
              "      <th>1</th>\n",
              "      <td>34.0</td>\n",
              "      <td>3.194118</td>\n",
              "      <td>0.398437</td>\n",
              "      <td>2.6</td>\n",
              "      <td>2.85</td>\n",
              "      <td>3.2</td>\n",
              "      <td>3.40</td>\n",
              "      <td>4.2</td>\n",
              "    </tr>\n",
              "    <tr>\n",
              "      <th>2</th>\n",
              "      <td>33.0</td>\n",
              "      <td>3.181818</td>\n",
              "      <td>0.297337</td>\n",
              "      <td>2.6</td>\n",
              "      <td>3.00</td>\n",
              "      <td>3.2</td>\n",
              "      <td>3.40</td>\n",
              "      <td>3.8</td>\n",
              "    </tr>\n",
              "    <tr>\n",
              "      <th>3</th>\n",
              "      <td>34.0</td>\n",
              "      <td>3.200000</td>\n",
              "      <td>0.214617</td>\n",
              "      <td>2.8</td>\n",
              "      <td>3.00</td>\n",
              "      <td>3.2</td>\n",
              "      <td>3.40</td>\n",
              "      <td>3.6</td>\n",
              "    </tr>\n",
              "    <tr>\n",
              "      <th>4</th>\n",
              "      <td>33.0</td>\n",
              "      <td>3.175758</td>\n",
              "      <td>0.277298</td>\n",
              "      <td>2.4</td>\n",
              "      <td>3.00</td>\n",
              "      <td>3.2</td>\n",
              "      <td>3.40</td>\n",
              "      <td>3.8</td>\n",
              "    </tr>\n",
              "    <tr>\n",
              "      <th>5</th>\n",
              "      <td>34.0</td>\n",
              "      <td>3.158824</td>\n",
              "      <td>0.240098</td>\n",
              "      <td>2.4</td>\n",
              "      <td>3.00</td>\n",
              "      <td>3.2</td>\n",
              "      <td>3.40</td>\n",
              "      <td>3.6</td>\n",
              "    </tr>\n",
              "    <tr>\n",
              "      <th>6</th>\n",
              "      <td>34.0</td>\n",
              "      <td>3.158824</td>\n",
              "      <td>0.456015</td>\n",
              "      <td>2.4</td>\n",
              "      <td>2.80</td>\n",
              "      <td>3.2</td>\n",
              "      <td>3.60</td>\n",
              "      <td>3.8</td>\n",
              "    </tr>\n",
              "    <tr>\n",
              "      <th>7</th>\n",
              "      <td>34.0</td>\n",
              "      <td>3.188235</td>\n",
              "      <td>0.299256</td>\n",
              "      <td>2.8</td>\n",
              "      <td>3.00</td>\n",
              "      <td>3.2</td>\n",
              "      <td>3.40</td>\n",
              "      <td>4.0</td>\n",
              "    </tr>\n",
              "    <tr>\n",
              "      <th>8</th>\n",
              "      <td>34.0</td>\n",
              "      <td>3.282353</td>\n",
              "      <td>0.365539</td>\n",
              "      <td>2.6</td>\n",
              "      <td>3.00</td>\n",
              "      <td>3.4</td>\n",
              "      <td>3.60</td>\n",
              "      <td>4.0</td>\n",
              "    </tr>\n",
              "    <tr>\n",
              "      <th>9</th>\n",
              "      <td>34.0</td>\n",
              "      <td>3.123529</td>\n",
              "      <td>0.241283</td>\n",
              "      <td>2.6</td>\n",
              "      <td>3.00</td>\n",
              "      <td>3.2</td>\n",
              "      <td>3.20</td>\n",
              "      <td>3.6</td>\n",
              "    </tr>\n",
              "    <tr>\n",
              "      <th>10</th>\n",
              "      <td>34.0</td>\n",
              "      <td>3.270588</td>\n",
              "      <td>0.322424</td>\n",
              "      <td>2.8</td>\n",
              "      <td>3.00</td>\n",
              "      <td>3.2</td>\n",
              "      <td>3.40</td>\n",
              "      <td>4.0</td>\n",
              "    </tr>\n",
              "    <tr>\n",
              "      <th>11</th>\n",
              "      <td>34.0</td>\n",
              "      <td>3.129412</td>\n",
              "      <td>0.250490</td>\n",
              "      <td>2.8</td>\n",
              "      <td>3.00</td>\n",
              "      <td>3.0</td>\n",
              "      <td>3.40</td>\n",
              "      <td>3.6</td>\n",
              "    </tr>\n",
              "    <tr>\n",
              "      <th>12</th>\n",
              "      <td>33.0</td>\n",
              "      <td>3.151515</td>\n",
              "      <td>0.367527</td>\n",
              "      <td>2.6</td>\n",
              "      <td>2.80</td>\n",
              "      <td>3.0</td>\n",
              "      <td>3.40</td>\n",
              "      <td>4.0</td>\n",
              "    </tr>\n",
              "    <tr>\n",
              "      <th>13</th>\n",
              "      <td>33.0</td>\n",
              "      <td>3.200000</td>\n",
              "      <td>0.234521</td>\n",
              "      <td>2.6</td>\n",
              "      <td>3.00</td>\n",
              "      <td>3.2</td>\n",
              "      <td>3.40</td>\n",
              "      <td>3.6</td>\n",
              "    </tr>\n",
              "    <tr>\n",
              "      <th>14</th>\n",
              "      <td>34.0</td>\n",
              "      <td>3.235294</td>\n",
              "      <td>0.493523</td>\n",
              "      <td>2.2</td>\n",
              "      <td>3.00</td>\n",
              "      <td>3.2</td>\n",
              "      <td>3.55</td>\n",
              "      <td>4.2</td>\n",
              "    </tr>\n",
              "    <tr>\n",
              "      <th>15</th>\n",
              "      <td>34.0</td>\n",
              "      <td>3.258824</td>\n",
              "      <td>0.346513</td>\n",
              "      <td>2.6</td>\n",
              "      <td>3.00</td>\n",
              "      <td>3.2</td>\n",
              "      <td>3.55</td>\n",
              "      <td>4.0</td>\n",
              "    </tr>\n",
              "    <tr>\n",
              "      <th>16</th>\n",
              "      <td>34.0</td>\n",
              "      <td>3.241176</td>\n",
              "      <td>0.290368</td>\n",
              "      <td>2.8</td>\n",
              "      <td>3.00</td>\n",
              "      <td>3.2</td>\n",
              "      <td>3.40</td>\n",
              "      <td>3.8</td>\n",
              "    </tr>\n",
              "    <tr>\n",
              "      <th>17</th>\n",
              "      <td>34.0</td>\n",
              "      <td>3.170588</td>\n",
              "      <td>0.412332</td>\n",
              "      <td>2.4</td>\n",
              "      <td>2.85</td>\n",
              "      <td>3.2</td>\n",
              "      <td>3.40</td>\n",
              "      <td>4.2</td>\n",
              "    </tr>\n",
              "    <tr>\n",
              "      <th>18</th>\n",
              "      <td>34.0</td>\n",
              "      <td>3.252941</td>\n",
              "      <td>0.232555</td>\n",
              "      <td>2.8</td>\n",
              "      <td>3.20</td>\n",
              "      <td>3.2</td>\n",
              "      <td>3.40</td>\n",
              "      <td>3.6</td>\n",
              "    </tr>\n",
              "    <tr>\n",
              "      <th>19</th>\n",
              "      <td>34.0</td>\n",
              "      <td>3.241176</td>\n",
              "      <td>0.428611</td>\n",
              "      <td>2.6</td>\n",
              "      <td>3.00</td>\n",
              "      <td>3.2</td>\n",
              "      <td>3.60</td>\n",
              "      <td>4.2</td>\n",
              "    </tr>\n",
              "    <tr>\n",
              "      <th>20</th>\n",
              "      <td>34.0</td>\n",
              "      <td>3.176471</td>\n",
              "      <td>0.354246</td>\n",
              "      <td>2.4</td>\n",
              "      <td>3.00</td>\n",
              "      <td>3.2</td>\n",
              "      <td>3.40</td>\n",
              "      <td>3.8</td>\n",
              "    </tr>\n",
              "  </tbody>\n",
              "</table>\n",
              "</div>"
            ],
            "text/plain": [
              "         count      mean       std  min   25%  50%   75%  max\n",
              "team_id                                                      \n",
              "1         34.0  3.194118  0.398437  2.6  2.85  3.2  3.40  4.2\n",
              "2         33.0  3.181818  0.297337  2.6  3.00  3.2  3.40  3.8\n",
              "3         34.0  3.200000  0.214617  2.8  3.00  3.2  3.40  3.6\n",
              "4         33.0  3.175758  0.277298  2.4  3.00  3.2  3.40  3.8\n",
              "5         34.0  3.158824  0.240098  2.4  3.00  3.2  3.40  3.6\n",
              "6         34.0  3.158824  0.456015  2.4  2.80  3.2  3.60  3.8\n",
              "7         34.0  3.188235  0.299256  2.8  3.00  3.2  3.40  4.0\n",
              "8         34.0  3.282353  0.365539  2.6  3.00  3.4  3.60  4.0\n",
              "9         34.0  3.123529  0.241283  2.6  3.00  3.2  3.20  3.6\n",
              "10        34.0  3.270588  0.322424  2.8  3.00  3.2  3.40  4.0\n",
              "11        34.0  3.129412  0.250490  2.8  3.00  3.0  3.40  3.6\n",
              "12        33.0  3.151515  0.367527  2.6  2.80  3.0  3.40  4.0\n",
              "13        33.0  3.200000  0.234521  2.6  3.00  3.2  3.40  3.6\n",
              "14        34.0  3.235294  0.493523  2.2  3.00  3.2  3.55  4.2\n",
              "15        34.0  3.258824  0.346513  2.6  3.00  3.2  3.55  4.0\n",
              "16        34.0  3.241176  0.290368  2.8  3.00  3.2  3.40  3.8\n",
              "17        34.0  3.170588  0.412332  2.4  2.85  3.2  3.40  4.2\n",
              "18        34.0  3.252941  0.232555  2.8  3.20  3.2  3.40  3.6\n",
              "19        34.0  3.241176  0.428611  2.6  3.00  3.2  3.60  4.2\n",
              "20        34.0  3.176471  0.354246  2.4  3.00  3.2  3.40  3.8"
            ]
          },
          "metadata": {
            "tags": []
          },
          "execution_count": 8
        }
      ]
    },
    {
      "cell_type": "code",
      "metadata": {
        "id": "bQNS3DUumyRF",
        "colab_type": "code",
        "colab": {
          "base_uri": "https://localhost:8080/",
          "height": 265
        },
        "outputId": "e5404a0e-b7eb-4054-b929-49de7e49b772"
      },
      "source": [
        "import matplotlib.pyplot as plt\n",
        "\n",
        "plt.plot(\n",
        "    rolling_fixture_difficulty[rolling_fixture_difficulty['team_id'] == 1]['gw'],\n",
        "    rolling_fixture_difficulty[rolling_fixture_difficulty['team_id'] == 1]['rolling']\n",
        ")\n",
        "plt.show()"
      ],
      "execution_count": 9,
      "outputs": [
        {
          "output_type": "display_data",
          "data": {
            "image/png": "[encoded data removed]",
            "text/plain": [
              "<Figure size 432x288 with 1 Axes>"
            ]
          },
          "metadata": {
            "tags": [],
            "needs_background": "light"
          }
        }
      ]
    },
    {
      "cell_type": "markdown",
      "metadata": {
        "id": "u1klQ6x2myRR",
        "colab_type": "text"
      },
      "source": [
        "A useful extension of this anaysis would be to calculate the meaning of changes in fixture difficulty in terms of points. For example: how many more points does a team that is rated 3 concede relative to a team that is rated 4?"
      ]
    },
    {
      "cell_type": "code",
      "metadata": {
        "id": "pjEhA4gYmyRU",
        "colab_type": "code",
        "colab": {}
      },
      "source": [
        ""
      ],
      "execution_count": null,
      "outputs": []
    }
  ]
}